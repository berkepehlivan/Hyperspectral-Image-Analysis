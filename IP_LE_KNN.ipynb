{
 "cells": [
  {
   "cell_type": "code",
   "execution_count": 1,
   "metadata": {},
   "outputs": [],
   "source": [
    "# Appeding the path to the scaman package\n",
    "import sys\n",
    "sys.path.append('/Users/berke/Codes/scaman-2024/scaman') \n",
    "# flann path\n",
    "sys.path.append('/Users/berke/Codes/python/flann/src/python')\n",
    "import numpy as np"
   ]
  },
  {
   "cell_type": "code",
   "execution_count": 2,
   "metadata": {},
   "outputs": [],
   "source": [
    "import numpy as np\n",
    "from sklearn.datasets import fetch_openml\n",
    "from sklearn.model_selection import train_test_split\n",
    "\n",
    "\n",
    "# Load indianpines data\n",
    "X = np.load('/Users/berke/Codes/scaman-2024/tests/data/indianpinearray.npy')\n",
    "y = np.load('/Users/berke/Codes/scaman-2024/tests/data/IPgt.npy')\n"
   ]
  },
  {
   "cell_type": "code",
   "execution_count": 3,
   "metadata": {},
   "outputs": [
    {
     "name": "stdout",
     "output_type": "stream",
     "text": [
      "(21025, 200)\n",
      "(21025,)\n"
     ]
    }
   ],
   "source": [
    "#reshape the data\n",
    "\n",
    "X = np.reshape(X,(-1,X.shape[-1]))\n",
    "y = np.reshape(y,(-1,))\n",
    "print(X.shape)\n",
    "print(y.shape)"
   ]
  },
  {
   "cell_type": "code",
   "execution_count": 4,
   "metadata": {},
   "outputs": [],
   "source": [
    "# Step 2: Center data matrix\n",
    "import numpy as np\n",
    "means = np.mean(X, axis=0)\n",
    "X_centered = X - means\n",
    "# Step 3: Verify that covariance matrix is centered\n",
    "assert np.allclose(np.mean(X_centered, axis=0), np.zeros_like(means))"
   ]
  },
  {
   "cell_type": "code",
   "execution_count": 5,
   "metadata": {},
   "outputs": [],
   "source": [
    "# Step 4: Compute covariance matrix\n",
    "cov = np.cov(X, rowvar=False)\n",
    "eigs = np.linalg.eig(cov)[0]\n",
    "eigs_sorted = np.flip(np.sort(eigs))\n",
    "variances = np.cumsum(eigs_sorted)/np.sum(eigs_sorted)\n",
    "tv = 0.8\n",
    "actual_dim = np.argmax(np.array(variances)>tv)"
   ]
  },
  {
   "cell_type": "code",
   "execution_count": 6,
   "metadata": {},
   "outputs": [],
   "source": [
    "from serial.le_flann import LE\n",
    "from utils.intrinsic_dimension_estimator import Estimator\n",
    "import time"
   ]
  },
  {
   "cell_type": "code",
   "execution_count": 7,
   "metadata": {},
   "outputs": [
    {
     "name": "stdout",
     "output_type": "stream",
     "text": [
      "Actual Dim = 1, Estimated Dim = 1, Estimated Var = 1.6947209846526243, Estimated Final Dim = 3\n",
      "Time taken: 57.146331787109375 seconds\n"
     ]
    }
   ],
   "source": [
    "# Step 5: Create Estimator instance\n",
    "estimator = Estimator(X_centered, p=10, nk=8, epsilon=0.1, delta=0.1, tv = 0.8)\n",
    "\n",
    "start_time_est = time.time()\n",
    "estDim, estVar, estDimF = estimator.estimator()\n",
    "end_time_est = time.time()\n",
    "\n",
    "print(f\"Actual Dim = {actual_dim}, Estimated Dim = {estDim}, Estimated Var = {estVar}, Estimated Final Dim = {estDimF}\")\n",
    "print(f\"Time taken: {end_time_est - start_time_est} seconds\")"
   ]
  },
  {
   "cell_type": "code",
   "execution_count": 63,
   "metadata": {},
   "outputs": [],
   "source": [
    "estDim=10"
   ]
  },
  {
   "cell_type": "code",
   "execution_count": 9,
   "metadata": {},
   "outputs": [],
   "source": [
    "from sklearn.preprocessing import MinMaxScaler\n",
    "scaler = MinMaxScaler()\n",
    "X_scaled = scaler.fit_transform(X)"
   ]
  },
  {
   "cell_type": "code",
   "execution_count": 64,
   "metadata": {},
   "outputs": [
    {
     "ename": "KeyboardInterrupt",
     "evalue": "",
     "output_type": "error",
     "traceback": [
      "\u001b[0;31m---------------------------------------------------------------------------\u001b[0m",
      "\u001b[0;31mKeyboardInterrupt\u001b[0m                         Traceback (most recent call last)",
      "Cell \u001b[0;32mIn[64], line 4\u001b[0m\n\u001b[1;32m      2\u001b[0m start_time_est_le \u001b[38;5;241m=\u001b[39m time\u001b[38;5;241m.\u001b[39mtime()\n\u001b[1;32m      3\u001b[0m le \u001b[38;5;241m=\u001b[39m LE(X_scaled,n_components\u001b[38;5;241m=\u001b[39mestDim,solver\u001b[38;5;241m=\u001b[39m\u001b[38;5;124m'\u001b[39m\u001b[38;5;124mscipy\u001b[39m\u001b[38;5;124m'\u001b[39m,slepc_solver\u001b[38;5;241m=\u001b[39m\u001b[38;5;124m'\u001b[39m\u001b[38;5;124mARNOLDI\u001b[39m\u001b[38;5;124m'\u001b[39m,affinity\u001b[38;5;241m=\u001b[39m\u001b[38;5;124m'\u001b[39m\u001b[38;5;124mnumpy\u001b[39m\u001b[38;5;124m'\u001b[39m)\n\u001b[0;32m----> 4\u001b[0m embedding_le \u001b[38;5;241m=\u001b[39m \u001b[43mle\u001b[49m\u001b[38;5;241;43m.\u001b[39;49m\u001b[43mfit_transform\u001b[49m\u001b[43m(\u001b[49m\u001b[43m)\u001b[49m\n\u001b[1;32m      5\u001b[0m end_time_est_le \u001b[38;5;241m=\u001b[39m time\u001b[38;5;241m.\u001b[39mtime()\n\u001b[1;32m      6\u001b[0m \u001b[38;5;66;03m#embedding shape\u001b[39;00m\n",
      "File \u001b[0;32m~/Codes/scaman-2024/scaman/serial/le_flann.py:199\u001b[0m, in \u001b[0;36mLE.fit_transform\u001b[0;34m(self)\u001b[0m\n\u001b[1;32m    197\u001b[0m     \u001b[38;5;28;01melse\u001b[39;00m:\n\u001b[1;32m    198\u001b[0m         \u001b[38;5;28mprint\u001b[39m(\u001b[38;5;124m'\u001b[39m\u001b[38;5;124maffinity value should either be networkx or flann.\u001b[39m\u001b[38;5;124m'\u001b[39m)\n\u001b[0;32m--> 199\u001b[0m W \u001b[38;5;241m=\u001b[39m \u001b[43mcheck_affinity\u001b[49m\u001b[43m(\u001b[49m\u001b[38;5;28;43mself\u001b[39;49m\u001b[43m)\u001b[49m  \n\u001b[1;32m    200\u001b[0m \u001b[38;5;28;01mif\u001b[39;00m \u001b[38;5;28mself\u001b[39m\u001b[38;5;241m.\u001b[39mnormalize:\n\u001b[1;32m    201\u001b[0m     L,D \u001b[38;5;241m=\u001b[39m \u001b[38;5;28mself\u001b[39m\u001b[38;5;241m.\u001b[39m_compute_normalized_laplacian_matrix(W)\n",
      "File \u001b[0;32m~/Codes/scaman-2024/scaman/serial/le_flann.py:189\u001b[0m, in \u001b[0;36mLE.fit_transform.<locals>.check_affinity\u001b[0;34m(self)\u001b[0m\n\u001b[1;32m    187\u001b[0m     \u001b[38;5;28;01mreturn\u001b[39;00m W\n\u001b[1;32m    188\u001b[0m \u001b[38;5;28;01melif\u001b[39;00m \u001b[38;5;28mself\u001b[39m\u001b[38;5;241m.\u001b[39maffinity\u001b[38;5;241m==\u001b[39m\u001b[38;5;124m'\u001b[39m\u001b[38;5;124mnumpy\u001b[39m\u001b[38;5;124m'\u001b[39m:\n\u001b[0;32m--> 189\u001b[0m     W \u001b[38;5;241m=\u001b[39m \u001b[38;5;28;43mself\u001b[39;49m\u001b[38;5;241;43m.\u001b[39;49m\u001b[43m_compute_affinity_matrix\u001b[49m\u001b[43m(\u001b[49m\u001b[43m)\u001b[49m\n\u001b[1;32m    190\u001b[0m     \u001b[38;5;28;01mreturn\u001b[39;00m W\n\u001b[1;32m    191\u001b[0m \u001b[38;5;28;01melif\u001b[39;00m \u001b[38;5;28mself\u001b[39m\u001b[38;5;241m.\u001b[39maffinity\u001b[38;5;241m==\u001b[39m\u001b[38;5;124m'\u001b[39m\u001b[38;5;124mflann\u001b[39m\u001b[38;5;124m'\u001b[39m:\n",
      "File \u001b[0;32m~/Codes/scaman-2024/scaman/serial/le_flann.py:55\u001b[0m, in \u001b[0;36mLE._compute_affinity_matrix\u001b[0;34m(self)\u001b[0m\n\u001b[1;32m     52\u001b[0m pairwise_distances \u001b[38;5;241m=\u001b[39m squareform(pdist(\u001b[38;5;28mself\u001b[39m\u001b[38;5;241m.\u001b[39mdata))\n\u001b[1;32m     54\u001b[0m \u001b[38;5;66;03m# Get the indices of the k nearest neighbors for each point\u001b[39;00m\n\u001b[0;32m---> 55\u001b[0m nearest_indices \u001b[38;5;241m=\u001b[39m \u001b[43mnp\u001b[49m\u001b[38;5;241;43m.\u001b[39;49m\u001b[43margsort\u001b[49m\u001b[43m(\u001b[49m\u001b[43mpairwise_distances\u001b[49m\u001b[43m,\u001b[49m\u001b[43m \u001b[49m\u001b[43maxis\u001b[49m\u001b[38;5;241;43m=\u001b[39;49m\u001b[38;5;241;43m1\u001b[39;49m\u001b[43m)\u001b[49m[:, \u001b[38;5;241m1\u001b[39m:\u001b[38;5;28mself\u001b[39m\u001b[38;5;241m.\u001b[39mk\u001b[38;5;241m+\u001b[39m\u001b[38;5;241m1\u001b[39m]\n\u001b[1;32m     57\u001b[0m \u001b[38;5;66;03m# Compute the Gaussian kernel for each pair of points\u001b[39;00m\n\u001b[1;32m     58\u001b[0m W \u001b[38;5;241m=\u001b[39m np\u001b[38;5;241m.\u001b[39mexp(\u001b[38;5;241m-\u001b[39mpairwise_distances\u001b[38;5;241m*\u001b[39m\u001b[38;5;241m*\u001b[39m\u001b[38;5;241m2\u001b[39m \u001b[38;5;241m/\u001b[39m (\u001b[38;5;241m2\u001b[39m\u001b[38;5;241m*\u001b[39m\u001b[38;5;28mself\u001b[39m\u001b[38;5;241m.\u001b[39msigma\u001b[38;5;241m*\u001b[39m\u001b[38;5;241m*\u001b[39m\u001b[38;5;241m2\u001b[39m))\n",
      "File \u001b[0;32m<__array_function__ internals>:180\u001b[0m, in \u001b[0;36margsort\u001b[0;34m(*args, **kwargs)\u001b[0m\n",
      "File \u001b[0;32m/opt/homebrew/anaconda3/envs/scaman-env/lib/python3.9/site-packages/numpy/core/fromnumeric.py:1120\u001b[0m, in \u001b[0;36margsort\u001b[0;34m(a, axis, kind, order)\u001b[0m\n\u001b[1;32m   1012\u001b[0m \u001b[38;5;129m@array_function_dispatch\u001b[39m(_argsort_dispatcher)\n\u001b[1;32m   1013\u001b[0m \u001b[38;5;28;01mdef\u001b[39;00m \u001b[38;5;21margsort\u001b[39m(a, axis\u001b[38;5;241m=\u001b[39m\u001b[38;5;241m-\u001b[39m\u001b[38;5;241m1\u001b[39m, kind\u001b[38;5;241m=\u001b[39m\u001b[38;5;28;01mNone\u001b[39;00m, order\u001b[38;5;241m=\u001b[39m\u001b[38;5;28;01mNone\u001b[39;00m):\n\u001b[1;32m   1014\u001b[0m \u001b[38;5;250m    \u001b[39m\u001b[38;5;124;03m\"\"\"\u001b[39;00m\n\u001b[1;32m   1015\u001b[0m \u001b[38;5;124;03m    Returns the indices that would sort an array.\u001b[39;00m\n\u001b[1;32m   1016\u001b[0m \n\u001b[0;32m   (...)\u001b[0m\n\u001b[1;32m   1118\u001b[0m \n\u001b[1;32m   1119\u001b[0m \u001b[38;5;124;03m    \"\"\"\u001b[39;00m\n\u001b[0;32m-> 1120\u001b[0m     \u001b[38;5;28;01mreturn\u001b[39;00m \u001b[43m_wrapfunc\u001b[49m\u001b[43m(\u001b[49m\u001b[43ma\u001b[49m\u001b[43m,\u001b[49m\u001b[43m \u001b[49m\u001b[38;5;124;43m'\u001b[39;49m\u001b[38;5;124;43margsort\u001b[39;49m\u001b[38;5;124;43m'\u001b[39;49m\u001b[43m,\u001b[49m\u001b[43m \u001b[49m\u001b[43maxis\u001b[49m\u001b[38;5;241;43m=\u001b[39;49m\u001b[43maxis\u001b[49m\u001b[43m,\u001b[49m\u001b[43m \u001b[49m\u001b[43mkind\u001b[49m\u001b[38;5;241;43m=\u001b[39;49m\u001b[43mkind\u001b[49m\u001b[43m,\u001b[49m\u001b[43m \u001b[49m\u001b[43morder\u001b[49m\u001b[38;5;241;43m=\u001b[39;49m\u001b[43morder\u001b[49m\u001b[43m)\u001b[49m\n",
      "File \u001b[0;32m/opt/homebrew/anaconda3/envs/scaman-env/lib/python3.9/site-packages/numpy/core/fromnumeric.py:57\u001b[0m, in \u001b[0;36m_wrapfunc\u001b[0;34m(obj, method, *args, **kwds)\u001b[0m\n\u001b[1;32m     54\u001b[0m     \u001b[38;5;28;01mreturn\u001b[39;00m _wrapit(obj, method, \u001b[38;5;241m*\u001b[39margs, \u001b[38;5;241m*\u001b[39m\u001b[38;5;241m*\u001b[39mkwds)\n\u001b[1;32m     56\u001b[0m \u001b[38;5;28;01mtry\u001b[39;00m:\n\u001b[0;32m---> 57\u001b[0m     \u001b[38;5;28;01mreturn\u001b[39;00m \u001b[43mbound\u001b[49m\u001b[43m(\u001b[49m\u001b[38;5;241;43m*\u001b[39;49m\u001b[43margs\u001b[49m\u001b[43m,\u001b[49m\u001b[43m \u001b[49m\u001b[38;5;241;43m*\u001b[39;49m\u001b[38;5;241;43m*\u001b[39;49m\u001b[43mkwds\u001b[49m\u001b[43m)\u001b[49m\n\u001b[1;32m     58\u001b[0m \u001b[38;5;28;01mexcept\u001b[39;00m \u001b[38;5;167;01mTypeError\u001b[39;00m:\n\u001b[1;32m     59\u001b[0m     \u001b[38;5;66;03m# A TypeError occurs if the object does have such a method in its\u001b[39;00m\n\u001b[1;32m     60\u001b[0m     \u001b[38;5;66;03m# class, but its signature is not identical to that of NumPy's. This\u001b[39;00m\n\u001b[0;32m   (...)\u001b[0m\n\u001b[1;32m     64\u001b[0m     \u001b[38;5;66;03m# Call _wrapit from within the except clause to ensure a potential\u001b[39;00m\n\u001b[1;32m     65\u001b[0m     \u001b[38;5;66;03m# exception has a traceback chain.\u001b[39;00m\n\u001b[1;32m     66\u001b[0m     \u001b[38;5;28;01mreturn\u001b[39;00m _wrapit(obj, method, \u001b[38;5;241m*\u001b[39margs, \u001b[38;5;241m*\u001b[39m\u001b[38;5;241m*\u001b[39mkwds)\n",
      "\u001b[0;31mKeyboardInterrupt\u001b[0m: "
     ]
    }
   ],
   "source": [
    "## Created test with estimated dimension and PCA\n",
    "start_time_est_le = time.time()\n",
    "le = LE(X_scaled,n_components=estDim,solver='scipy',slepc_solver='ARNOLDI',affinity='numpy')\n",
    "embedding_le = le.fit_transform()\n",
    "end_time_est_le = time.time()\n",
    "#embedding shape\n",
    "print(embedding_le.shape)\n",
    "#embedding type\n",
    "print(type(embedding_le))\n",
    "print(f\"Time taken: {end_time_est_le - start_time_est_le} seconds\")\n",
    "# convert complex matrix to real matrix\n",
    "#embedding_le = np.real(embedding_le)"
   ]
  },
  {
   "cell_type": "code",
   "execution_count": 11,
   "metadata": {},
   "outputs": [
    {
     "name": "stdout",
     "output_type": "stream",
     "text": [
      "Accuracy of LE applied data with estDim: 0.6471147748890298\n",
      "Time taken: 0.01786494255065918 seconds\n"
     ]
    }
   ],
   "source": [
    "from sklearn.model_selection import train_test_split\n",
    "from sklearn.neighbors import KNeighborsClassifier\n",
    "from sklearn.metrics import accuracy_score\n",
    "\n",
    "\n",
    "# Split the data into training and testing sets\n",
    "X_train, X_test, y_train, y_test = train_test_split(embedding_le, y, test_size=0.3, random_state=42)\n",
    "\n",
    "# Fit the KNN model on the training data\n",
    "start_time_est_knn = time.time()\n",
    "knn = KNeighborsClassifier(n_neighbors=17)\n",
    "knn.fit(X_train, y_train)\n",
    "end_time_est_knn = time.time()\n",
    "\n",
    "# Use the trained model to predict the labels for the testing data\n",
    "y_pred = knn.predict(X_test)\n",
    "\n",
    "# Calculate the accuracy of the model\n",
    "accuracy = accuracy_score(y_test, y_pred)\n",
    "print(f\"Accuracy of LE applied data with estDim: {accuracy}\")\n",
    "print(f\"Time taken: {end_time_est_knn - start_time_est_knn} seconds\")"
   ]
  },
  {
   "cell_type": "code",
   "execution_count": 12,
   "metadata": {},
   "outputs": [
    {
     "name": "stdout",
     "output_type": "stream",
     "text": [
      "Total time taken: 315.3801167011261 seconds\n"
     ]
    }
   ],
   "source": [
    "time_taken_intrinsic = (end_time_est - start_time_est) + (end_time_est_le - start_time_est_le) + (end_time_est_knn - start_time_est_knn)\n",
    "print(f\"Total time taken: {time_taken_intrinsic} seconds\")"
   ]
  },
  {
   "cell_type": "code",
   "execution_count": 61,
   "metadata": {},
   "outputs": [
    {
     "name": "stdout",
     "output_type": "stream",
     "text": [
      "Accuracy of original dataset: 0.7234244946492271\n",
      "Time taken: 0.0012018680572509766 seconds\n"
     ]
    }
   ],
   "source": [
    "# Split the data into training and testing sets for original data\n",
    "X_train_org, X_test_org, y_train_org, y_test_org = train_test_split(X, y, test_size=0.2, random_state=42)\n",
    "start_time_org_knn = time.time()\n",
    "# Fit the KNN model on the training data for original data\n",
    "knn = KNeighborsClassifier(n_neighbors=7)\n",
    "knn.fit(X_train_org, y_train_org)\n",
    "end_time_org_knn = time.time()\n",
    "\n",
    "# Use the trained model to predict the labels for the testing data for original data\n",
    "y_pred_org = knn.predict(X_test_org)\n",
    "\n",
    "# Calculate the accuracy of the model for original data\n",
    "accuracy_org = accuracy_score(y_test_org, y_pred_org)\n",
    "print(f\"Accuracy of original dataset: {accuracy_org}\")\n",
    "print(f\"Time taken: {end_time_org_knn - start_time_org_knn} seconds\")"
   ]
  },
  {
   "cell_type": "code",
   "execution_count": 23,
   "metadata": {},
   "outputs": [
    {
     "name": "stdout",
     "output_type": "stream",
     "text": [
      "Accuracy of LE applied data with estDim: 0.6399809765377299\n",
      "Time taken: 0.006610870361328125 seconds\n"
     ]
    }
   ],
   "source": [
    "from sklearn.model_selection import train_test_split\n",
    "from sklearn.neighbors import KNeighborsClassifier\n",
    "from sklearn.metrics import accuracy_score\n",
    "\n",
    "\n",
    "# Split the data into training and testing sets\n",
    "X_train, X_test, y_train, y_test = train_test_split(embedding_le, y, test_size=0.3, random_state=42)\n",
    "\n",
    "# Fit the KNN model on the training data\n",
    "start_time_est_knn = time.time()\n",
    "knn = KNeighborsClassifier(n_neighbors=7)\n",
    "knn.fit(X_train, y_train)\n",
    "end_time_est_knn = time.time()\n",
    "\n",
    "# Use the trained model to predict the labels for the testing data\n",
    "y_pred = knn.predict(X_test)\n",
    "\n",
    "# Calculate the accuracy of the model\n",
    "accuracy = accuracy_score(y_test, y_pred)\n",
    "print(f\"Accuracy of LE applied data with estDim: {accuracy}\")\n",
    "print(f\"Time taken: {end_time_est_knn - start_time_est_knn} seconds\")"
   ]
  },
  {
   "cell_type": "code",
   "execution_count": 34,
   "metadata": {},
   "outputs": [
    {
     "name": "stderr",
     "output_type": "stream",
     "text": [
      "Computing affinity matrix with numpy and sklearn: 100%|██████████| 21025/21025 [00:03<00:00, 5688.99it/s]\n",
      "Computing affinity matrix with numpy and sklearn: 100%|██████████| 21025/21025 [00:03<00:00, 5393.22it/s]\n",
      "Computing affinity matrix with numpy and sklearn: 100%|██████████| 21025/21025 [00:04<00:00, 5161.32it/s]\n",
      "Computing affinity matrix with numpy and sklearn: 100%|██████████| 21025/21025 [00:04<00:00, 4302.20it/s]\n",
      "Computing affinity matrix with numpy and sklearn: 100%|██████████| 21025/21025 [00:04<00:00, 4609.56it/s]\n",
      "Computing affinity matrix with numpy and sklearn: 100%|██████████| 21025/21025 [00:04<00:00, 4486.90it/s]\n",
      "Computing affinity matrix with numpy and sklearn: 100%|██████████| 21025/21025 [00:03<00:00, 5439.58it/s]\n",
      "Computing affinity matrix with numpy and sklearn: 100%|██████████| 21025/21025 [00:02<00:00, 7825.32it/s]\n",
      "Computing affinity matrix with numpy and sklearn: 100%|██████████| 21025/21025 [00:01<00:00, 10938.28it/s]\n"
     ]
    },
    {
     "name": "stdout",
     "output_type": "stream",
     "text": [
      "Dimension: 2, Accuracy: 0.6040428061831153, Time taken: 411.73869013786316 seconds\n",
      "Dimension: 4, Accuracy: 0.6473246135552914, Time taken: 334.4897618293762 seconds\n",
      "Dimension: 6, Accuracy: 0.6461355529131986, Time taken: 317.6478478908539 seconds\n",
      "Dimension: 8, Accuracy: 0.6487514863258026, Time taken: 265.72340393066406 seconds\n",
      "Dimension: 10, Accuracy: 0.6447086801426872, Time taken: 238.21302604675293 seconds\n",
      "Dimension: 12, Accuracy: 0.6518430439952437, Time taken: 199.5501651763916 seconds\n",
      "Dimension: 14, Accuracy: 0.648513674197384, Time taken: 188.5514039993286 seconds\n",
      "Dimension: 16, Accuracy: 0.6563614744351962, Time taken: 164.01092910766602 seconds\n",
      "Dimension: 18, Accuracy: 0.6549346016646849, Time taken: 165.03207206726074 seconds\n",
      "[0.6040428061831153, 0.6473246135552914, 0.6461355529131986, 0.6487514863258026, 0.6447086801426872, 0.6518430439952437, 0.648513674197384, 0.6563614744351962, 0.6549346016646849]\n",
      "[411.73869013786316, 334.4897618293762, 317.6478478908539, 265.72340393066406, 238.21302604675293, 199.5501651763916, 188.5514039993286, 164.01092910766602, 165.03207206726074]\n"
     ]
    }
   ],
   "source": [
    "import time\n",
    "\n",
    "# Initialize an empty list to store the accuracies and times\n",
    "accuracies = []\n",
    "times = []\n",
    "\n",
    "# Define the range of dimensions\n",
    "dimensions = range(2, 50, 2)\n",
    "\n",
    "# Perform PCA with the current dimension\n",
    "le = LE(X_scaled,n_components=100,solver='scipy',slepc_solver='ARNOLDI',affinity='numpy')\n",
    "embedding_le = le.fit_transform()\n",
    "\n",
    "# Loop through each dimension\n",
    "for dim in dimensions:\n",
    "    start_time = time.time()\n",
    "    \n",
    "    embedding_le = embedding_le[:,:dim]\n",
    "    #embedding_le = np.real(embedding_le)\n",
    "    \n",
    "    # Split the data into training and testing sets\n",
    "    X_train, X_test, y_train, y_test = train_test_split(embedding_le, y, test_size=0.2, random_state=42)\n",
    "    \n",
    "    # Fit the KNN model on the training data\n",
    "    knn = KNeighborsClassifier(n_neighbors=7)\n",
    "    knn.fit(X_train, y_train)\n",
    "    \n",
    "    # Use the trained model to predict the labels for the testing data\n",
    "    y_pred = knn.predict(X_test)\n",
    "    \n",
    "    # Calculate the accuracy of the model\n",
    "    accuracy = accuracy_score(y_test, y_pred)\n",
    "    \n",
    "    # Append the accuracy to the list\n",
    "    accuracies.append(accuracy)\n",
    "    \n",
    "    end_time = time.time()\n",
    "    times.append(end_time - start_time)\n",
    "\n",
    "# Print the accuracies and times for each dimension\n",
    "for dim, accuracy, time_taken in zip(dimensions, accuracies, times):\n",
    "    print(f\"Dimension: {dim}, Accuracy: {accuracy}, Time taken: {time_taken} seconds\")\n",
    "\n",
    "print(accuracies)\n",
    "print(times)"
   ]
  },
  {
   "cell_type": "code",
   "execution_count": 36,
   "metadata": {},
   "outputs": [
    {
     "name": "stdout",
     "output_type": "stream",
     "text": [
      "Total time taken: 2284.957300186157 seconds\n"
     ]
    }
   ],
   "source": [
    "time_taken_loop = np.sum(times)\n",
    "print(f\"Total time taken: {np.sum(times)} seconds\")"
   ]
  },
  {
   "cell_type": "code",
   "execution_count": 45,
   "metadata": {},
   "outputs": [
    {
     "name": "stdout",
     "output_type": "stream",
     "text": [
      "[0.6040428061831153, 0.6473246135552914, 0.6461355529131986, 0.6487514863258026, 0.6447086801426872, 0.6518430439952437, 0.648513674197384, 0.6563614744351962, 0.6549346016646849, 0.6549346016646849, 0.6549346016646849]\n"
     ]
    }
   ],
   "source": [
    "print(accuracies)"
   ]
  },
  {
   "cell_type": "code",
   "execution_count": 56,
   "metadata": {},
   "outputs": [],
   "source": [
    "# Create lists of dimensions and accuracies\n",
    "dimensions = list(range(2, 20, 2))"
   ]
  },
  {
   "cell_type": "code",
   "execution_count": 57,
   "metadata": {},
   "outputs": [],
   "source": [
    "dimensions.append(estDim)\n",
    "#accuracies.append(accuracy)\n",
    "#drop the appeneded dimension accuracy\n",
    "\n",
    "\n"
   ]
  },
  {
   "cell_type": "code",
   "execution_count": 50,
   "metadata": {},
   "outputs": [
    {
     "data": {
      "text/plain": [
       "0.6549346016646849"
      ]
     },
     "execution_count": 50,
     "metadata": {},
     "output_type": "execute_result"
    }
   ],
   "source": [
    "dimensions.pop()\n",
    "accuracies.pop()"
   ]
  },
  {
   "cell_type": "code",
   "execution_count": 55,
   "metadata": {},
   "outputs": [
    {
     "name": "stdout",
     "output_type": "stream",
     "text": [
      "9\n",
      "10\n"
     ]
    }
   ],
   "source": [
    "length = len(dimensions)\n",
    "print(length)\n",
    "length_acc = len(accuracies)\n",
    "print(length_acc)"
   ]
  },
  {
   "cell_type": "code",
   "execution_count": 65,
   "metadata": {},
   "outputs": [
    {
     "name": "stderr",
     "output_type": "stream",
     "text": [
      "/var/folders/yj/rxsr79ls6fx9ykhgjv_fbk2r0000gp/T/ipykernel_32200/3613014485.py:7: UserWarning: linestyle is redundantly defined by the 'linestyle' keyword argument and the fmt string \"bo-\" (-> linestyle='-'). The keyword argument will take precedence.\n",
      "  plt.plot(dimensions, accuracies, 'bo-', linestyle='dotted', label='LE Dimensions')\n",
      "/var/folders/yj/rxsr79ls6fx9ykhgjv_fbk2r0000gp/T/ipykernel_32200/3613014485.py:37: MatplotlibDeprecationWarning: The legendHandles attribute was deprecated in Matplotlib 3.7 and will be removed two minor releases later. Use legend_handles instead.\n",
      "  for handle in legend.legendHandles:\n"
     ]
    },
    {
     "data": {
      "image/png": "[encoded data removed]",
      "text/plain": [
       "<Figure size 1200x600 with 1 Axes>"
      ]
     },
     "metadata": {},
     "output_type": "display_data"
    }
   ],
   "source": [
    "import matplotlib.pyplot as plt\n",
    "\n",
    "# Set the size of the plot\n",
    "plt.figure(figsize=(12, 6))  # Width: 18 inches, Height: 6 inches\n",
    "\n",
    "# Create a blue dotted line plot of dimensions vs accuracies with markers\n",
    "plt.plot(dimensions, accuracies, 'bo-', linestyle='dotted', label='LE Dimensions')\n",
    "\n",
    "# Highlight the accuracy of estDim with a straight red line\n",
    "plt.axhline(y=accuracy, color='red', linestyle='-', label=f'estDim={estDim}')\n",
    "plt.text(5, accuracy, 'estDim', verticalalignment='bottom', color='red')\n",
    "\n",
    "# Plot the accuracy of the original data with a straight orange line\n",
    "plt.axhline(y=accuracy_org, color='orange', linestyle='-', label='Original Dataset')\n",
    "plt.text(5, accuracy_org, 'Original Dataset', verticalalignment='top', color='orange')\n",
    "\n",
    "# Highlight the intersection point at estimated dimension\n",
    "# Plot these after the blue line to ensure they appear on top\n",
    "plt.scatter(estDim, accuracy, color='red', zorder=5)\n",
    "plt.scatter(estDim, accuracy_org, color='orange', zorder=5)\n",
    "\n",
    "# Add grid\n",
    "plt.grid(True)\n",
    "\n",
    "# Set x-axis to show all dimensions\n",
    "plt.xticks(dimensions + [estDim])\n",
    "\n",
    "# Label the axes and create a legend\n",
    "plt.xlabel('Dimensions', fontsize=14)\n",
    "plt.ylabel('Accuracy', fontsize=14)\n",
    "#plt.title('Indian Pines - PCA and kNN Accuracies with Dimension Estimator', fontsize=16)\n",
    "\n",
    "# Create a legend with larger font size\n",
    "legend = plt.legend(fontsize='x-large')\n",
    "\n",
    "# Increase the size of the legend markers\n",
    "for handle in legend.legendHandles:\n",
    "    handle._sizes = [85]\n",
    "\n",
    "plt.show()"
   ]
  },
  {
   "cell_type": "code",
   "execution_count": 66,
   "metadata": {},
   "outputs": [
    {
     "name": "stdout",
     "output_type": "stream",
     "text": [
      "Total time taken for intrinsic dimension: 315.3801167011261 seconds\n",
      "Total time taken for loop: 2284.957300186157 seconds\n",
      "Accuracy of LE applied data with estDim: 0.6549346016646849\n",
      "Accuracy of original dataset: 0.7234244946492271\n",
      "Average accuracy of LE applied data with loop: 0.6508442330558859\n"
     ]
    },
    {
     "data": {
      "text/plain": [
       "<function print>"
      ]
     },
     "execution_count": 66,
     "metadata": {},
     "output_type": "execute_result"
    }
   ],
   "source": [
    "# compare the time taken for intrinsic dimension and loop\n",
    "print(f\"Total time taken for intrinsic dimension: {time_taken_intrinsic} seconds\")\n",
    "print(f\"Total time taken for loop: {time_taken_loop} seconds\")\n",
    "\n",
    "# compare the accuracy of intrinsic dimension and loop\n",
    "print(f\"Accuracy of LE applied data with estDim: {accuracy}\")\n",
    "print(f\"Accuracy of original dataset: {accuracy_org}\")\n",
    "print(f'Average accuracy of LE applied data with loop: {np.mean(accuracies)}')\n",
    "print\n"
   ]
  },
  {
   "cell_type": "code",
   "execution_count": null,
   "metadata": {},
   "outputs": [],
   "source": []
  }
 ],
 "metadata": {
  "kernelspec": {
   "display_name": "scaman-env",
   "language": "python",
   "name": "python3"
  },
  "language_info": {
   "codemirror_mode": {
    "name": "ipython",
    "version": 3
   },
   "file_extension": ".py",
   "mimetype": "text/x-python",
   "name": "python",
   "nbconvert_exporter": "python",
   "pygments_lexer": "ipython3",
   "version": "3.9.16"
  }
 },
 "nbformat": 4,
 "nbformat_minor": 2
}
