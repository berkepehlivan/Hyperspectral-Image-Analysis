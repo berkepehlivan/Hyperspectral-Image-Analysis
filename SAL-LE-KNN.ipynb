{
 "cells": [
  {
   "cell_type": "code",
   "execution_count": 1,
   "metadata": {},
   "outputs": [],
   "source": [
    "# Appeding the path to the scaman package\n",
    "import sys\n",
    "sys.path.append('/Users/berke/Codes/scaman-2024/scaman') \n",
    "# flann path\n",
    "sys.path.append('/Users/berke/Codes/python/flann/src/python')\n",
    "import numpy as np"
   ]
  },
  {
   "cell_type": "code",
   "execution_count": 7,
   "metadata": {},
   "outputs": [
    {
     "name": "stdout",
     "output_type": "stream",
     "text": [
      "dict_keys(['__header__', '__version__', '__globals__', 'salinasA_corrected'])\n",
      "(83, 86, 204)\n"
     ]
    }
   ],
   "source": [
    "import numpy as np\n",
    "from sklearn.datasets import fetch_openml\n",
    "from sklearn.model_selection import train_test_split\n",
    "import scipy.io as sio\n",
    "\n",
    "# Load data\n",
    "X_dict = sio.loadmat('/Users/berke/Codes/scaman-2024/tests/data/salinas/salinasA_corrected.mat')\n",
    "y_dict = sio.loadmat('/Users/berke/Codes/scaman-2024/tests/data/salinas/salinasA_gt.mat')\n",
    "\n",
    "print(X_dict.keys())\n",
    "print(X_dict['salinasA_corrected'].shape)\n",
    "\n",
    "X = X_dict['salinasA_corrected'].reshape(-1, 204)\n",
    "y = y_dict['salinasA_gt'].reshape(-1,1)\n",
    "\n",
    "# Stratified sampling: 10% of the data\n",
    "X, _, y, _ = train_test_split(X, y, test_size=0.9, stratify=y, random_state=42)"
   ]
  },
  {
   "cell_type": "code",
   "execution_count": 9,
   "metadata": {},
   "outputs": [
    {
     "name": "stdout",
     "output_type": "stream",
     "text": [
      "(713, 204)\n",
      "(713, 1)\n"
     ]
    }
   ],
   "source": [
    "#shape of the data\n",
    "print(X.shape)\n",
    "print(y.shape)"
   ]
  },
  {
   "cell_type": "code",
   "execution_count": 10,
   "metadata": {},
   "outputs": [],
   "source": [
    "estDim = 8"
   ]
  },
  {
   "cell_type": "code",
   "execution_count": 11,
   "metadata": {},
   "outputs": [],
   "source": [
    "from sklearn.preprocessing import MinMaxScaler\n",
    "scaler = MinMaxScaler()\n",
    "X_scaled = scaler.fit_transform(X)"
   ]
  },
  {
   "cell_type": "code",
   "execution_count": 15,
   "metadata": {},
   "outputs": [],
   "source": [
    "from serial.le_flann import LE\n",
    "from utils.intrinsic_dimension_estimator import Estimator\n",
    "import time"
   ]
  },
  {
   "cell_type": "code",
   "execution_count": 16,
   "metadata": {},
   "outputs": [
    {
     "name": "stderr",
     "output_type": "stream",
     "text": [
      "Computing affinity matrix with numpy and sklearn: 100%|██████████| 713/713 [00:00<00:00, 65304.16it/s]"
     ]
    },
    {
     "name": "stdout",
     "output_type": "stream",
     "text": [
      "(713, 8)\n",
      "<class 'numpy.ndarray'>\n",
      "Time taken: 0.18040823936462402 seconds\n"
     ]
    },
    {
     "name": "stderr",
     "output_type": "stream",
     "text": [
      "\n"
     ]
    }
   ],
   "source": [
    "## Created test with estimated dimension and PCA\n",
    "start_time_est_le = time.time()\n",
    "le = LE(X_scaled,n_components=estDim,solver='scipy',slepc_solver='ARNOLDI',affinity='numpy')\n",
    "embedding_le = le.fit_transform()\n",
    "end_time_est_le = time.time()\n",
    "#embedding shape\n",
    "print(embedding_le.shape)\n",
    "#embedding type\n",
    "print(type(embedding_le))\n",
    "print(f\"Time taken: {end_time_est_le - start_time_est_le} seconds\")"
   ]
  },
  {
   "cell_type": "code",
   "execution_count": 23,
   "metadata": {},
   "outputs": [
    {
     "name": "stdout",
     "output_type": "stream",
     "text": [
      "Accuracy of LE applied data with estDim: 0.822429906542056\n",
      "Time taken: 0.0013852119445800781 seconds\n"
     ]
    },
    {
     "name": "stderr",
     "output_type": "stream",
     "text": [
      "/opt/homebrew/anaconda3/envs/scaman-env/lib/python3.9/site-packages/sklearn/neighbors/_classification.py:215: DataConversionWarning: A column-vector y was passed when a 1d array was expected. Please change the shape of y to (n_samples,), for example using ravel().\n",
      "  return self._fit(X, y)\n"
     ]
    }
   ],
   "source": [
    "from sklearn.model_selection import train_test_split\n",
    "from sklearn.neighbors import KNeighborsClassifier\n",
    "from sklearn.metrics import accuracy_score\n",
    "\n",
    "\n",
    "# Split the data into training and testing sets\n",
    "X_train, X_test, y_train, y_test = train_test_split(embedding_le, y, test_size=0.3, random_state=42)\n",
    "\n",
    "# Fit the KNN model on the training data\n",
    "start_time_est_knn = time.time()\n",
    "knn = KNeighborsClassifier(n_neighbors=23)\n",
    "knn.fit(X_train, y_train)\n",
    "end_time_est_knn = time.time()\n",
    "\n",
    "# Use the trained model to predict the labels for the testing data\n",
    "y_pred = knn.predict(X_test)\n",
    "\n",
    "# Calculate the accuracy of the model\n",
    "accuracy = accuracy_score(y_test, y_pred)\n",
    "print(f\"Accuracy of LE applied data with estDim: {accuracy}\")\n",
    "print(f\"Time taken: {end_time_est_knn - start_time_est_knn} seconds\")"
   ]
  },
  {
   "cell_type": "code",
   "execution_count": 18,
   "metadata": {},
   "outputs": [
    {
     "name": "stdout",
     "output_type": "stream",
     "text": [
      "Total time taken: 1.0841409568786622 seconds\n"
     ]
    }
   ],
   "source": [
    "time_taken_intrinsic = 0.9005 + (end_time_est_le - start_time_est_le) + (end_time_est_knn - start_time_est_knn)\n",
    "print(f\"Total time taken: {time_taken_intrinsic} seconds\")"
   ]
  },
  {
   "cell_type": "code",
   "execution_count": 26,
   "metadata": {},
   "outputs": [
    {
     "name": "stdout",
     "output_type": "stream",
     "text": [
      "Accuracy of original dataset: 0.8317757009345794\n",
      "Time taken: 0.0014009475708007812 seconds\n"
     ]
    },
    {
     "name": "stderr",
     "output_type": "stream",
     "text": [
      "/opt/homebrew/anaconda3/envs/scaman-env/lib/python3.9/site-packages/sklearn/neighbors/_classification.py:215: DataConversionWarning: A column-vector y was passed when a 1d array was expected. Please change the shape of y to (n_samples,), for example using ravel().\n",
      "  return self._fit(X, y)\n"
     ]
    }
   ],
   "source": [
    "# Split the data into training and testing sets for original data\n",
    "X_train_org, X_test_org, y_train_org, y_test_org = train_test_split(X_scaled, y, test_size=0.3, random_state=42)\n",
    "start_time_org_knn = time.time()\n",
    "# Fit the KNN model on the training data for original data\n",
    "knn = KNeighborsClassifier(n_neighbors=23)\n",
    "knn.fit(X_train_org, y_train_org)\n",
    "end_time_org_knn = time.time()\n",
    "\n",
    "# Use the trained model to predict the labels for the testing data for original data\n",
    "y_pred_org = knn.predict(X_test_org)\n",
    "\n",
    "# Calculate the accuracy of the model for original data\n",
    "accuracy_org = accuracy_score(y_test_org, y_pred_org)\n",
    "print(f\"Accuracy of original dataset: {accuracy_org}\")\n",
    "print(f\"Time taken: {end_time_org_knn - start_time_org_knn} seconds\")"
   ]
  },
  {
   "cell_type": "code",
   "execution_count": 27,
   "metadata": {},
   "outputs": [
    {
     "name": "stderr",
     "output_type": "stream",
     "text": [
      "Computing affinity matrix with numpy and sklearn: 100%|██████████| 713/713 [00:00<00:00, 263298.01it/s]\n",
      "/opt/homebrew/anaconda3/envs/scaman-env/lib/python3.9/site-packages/sklearn/neighbors/_classification.py:215: DataConversionWarning: A column-vector y was passed when a 1d array was expected. Please change the shape of y to (n_samples,), for example using ravel().\n",
      "  return self._fit(X, y)\n",
      "Computing affinity matrix with numpy and sklearn: 100%|██████████| 713/713 [00:00<00:00, 281277.16it/s]\n",
      "/opt/homebrew/anaconda3/envs/scaman-env/lib/python3.9/site-packages/sklearn/neighbors/_classification.py:215: DataConversionWarning: A column-vector y was passed when a 1d array was expected. Please change the shape of y to (n_samples,), for example using ravel().\n",
      "  return self._fit(X, y)\n",
      "Computing affinity matrix with numpy and sklearn: 100%|██████████| 713/713 [00:00<00:00, 243093.70it/s]\n",
      "/opt/homebrew/anaconda3/envs/scaman-env/lib/python3.9/site-packages/sklearn/neighbors/_classification.py:215: DataConversionWarning: A column-vector y was passed when a 1d array was expected. Please change the shape of y to (n_samples,), for example using ravel().\n",
      "  return self._fit(X, y)\n",
      "Computing affinity matrix with numpy and sklearn: 100%|██████████| 713/713 [00:00<00:00, 300828.76it/s]\n",
      "/opt/homebrew/anaconda3/envs/scaman-env/lib/python3.9/site-packages/sklearn/neighbors/_classification.py:215: DataConversionWarning: A column-vector y was passed when a 1d array was expected. Please change the shape of y to (n_samples,), for example using ravel().\n",
      "  return self._fit(X, y)\n",
      "Computing affinity matrix with numpy and sklearn: 100%|██████████| 713/713 [00:00<00:00, 279046.26it/s]\n",
      "/opt/homebrew/anaconda3/envs/scaman-env/lib/python3.9/site-packages/sklearn/neighbors/_classification.py:215: DataConversionWarning: A column-vector y was passed when a 1d array was expected. Please change the shape of y to (n_samples,), for example using ravel().\n",
      "  return self._fit(X, y)\n",
      "Computing affinity matrix with numpy and sklearn: 100%|██████████| 713/713 [00:00<00:00, 272015.53it/s]\n",
      "/opt/homebrew/anaconda3/envs/scaman-env/lib/python3.9/site-packages/sklearn/neighbors/_classification.py:215: DataConversionWarning: A column-vector y was passed when a 1d array was expected. Please change the shape of y to (n_samples,), for example using ravel().\n",
      "  return self._fit(X, y)\n",
      "Computing affinity matrix with numpy and sklearn: 100%|██████████| 713/713 [00:00<00:00, 275270.50it/s]\n",
      "/opt/homebrew/anaconda3/envs/scaman-env/lib/python3.9/site-packages/sklearn/neighbors/_classification.py:215: DataConversionWarning: A column-vector y was passed when a 1d array was expected. Please change the shape of y to (n_samples,), for example using ravel().\n",
      "  return self._fit(X, y)\n",
      "Computing affinity matrix with numpy and sklearn: 100%|██████████| 713/713 [00:00<00:00, 278293.20it/s]\n",
      "/opt/homebrew/anaconda3/envs/scaman-env/lib/python3.9/site-packages/sklearn/neighbors/_classification.py:215: DataConversionWarning: A column-vector y was passed when a 1d array was expected. Please change the shape of y to (n_samples,), for example using ravel().\n",
      "  return self._fit(X, y)\n",
      "Computing affinity matrix with numpy and sklearn: 100%|██████████| 713/713 [00:00<00:00, 276773.60it/s]\n"
     ]
    },
    {
     "name": "stdout",
     "output_type": "stream",
     "text": [
      "Dimension: 2, Accuracy: 0.7897196261682243, Time taken: 0.30368900299072266 seconds\n",
      "Dimension: 4, Accuracy: 0.7897196261682243, Time taken: 0.17567014694213867 seconds\n",
      "Dimension: 6, Accuracy: 0.8317757009345794, Time taken: 0.12709712982177734 seconds\n",
      "Dimension: 8, Accuracy: 0.822429906542056, Time taken: 0.134443998336792 seconds\n",
      "Dimension: 10, Accuracy: 0.8317757009345794, Time taken: 0.1408529281616211 seconds\n",
      "Dimension: 12, Accuracy: 0.8317757009345794, Time taken: 0.14306282997131348 seconds\n",
      "Dimension: 14, Accuracy: 0.8364485981308412, Time taken: 0.1358792781829834 seconds\n",
      "Dimension: 16, Accuracy: 0.8317757009345794, Time taken: 0.12633204460144043 seconds\n",
      "Dimension: 18, Accuracy: 0.8271028037383178, Time taken: 0.1248009204864502 seconds\n",
      "[0.7897196261682243, 0.7897196261682243, 0.8317757009345794, 0.822429906542056, 0.8317757009345794, 0.8317757009345794, 0.8364485981308412, 0.8317757009345794, 0.8271028037383178]\n",
      "[0.30368900299072266, 0.17567014694213867, 0.12709712982177734, 0.134443998336792, 0.1408529281616211, 0.14306282997131348, 0.1358792781829834, 0.12633204460144043, 0.1248009204864502]\n"
     ]
    },
    {
     "name": "stderr",
     "output_type": "stream",
     "text": [
      "/opt/homebrew/anaconda3/envs/scaman-env/lib/python3.9/site-packages/sklearn/neighbors/_classification.py:215: DataConversionWarning: A column-vector y was passed when a 1d array was expected. Please change the shape of y to (n_samples,), for example using ravel().\n",
      "  return self._fit(X, y)\n"
     ]
    }
   ],
   "source": [
    "# Initialize an empty list to store the accuracies and times\n",
    "accuracies = []\n",
    "times = []\n",
    "\n",
    "# Define the range of dimensions\n",
    "dimensions = range(2, 20, 2)\n",
    "\n",
    "# Loop through each dimension\n",
    "for dim in dimensions:\n",
    "    start_time = time.time()\n",
    "    \n",
    "    # Perform PCA with the current dimension\n",
    "    le = LE(X_scaled,n_components=dim,solver='scipy',slepc_solver='ARNOLDI',affinity='numpy')\n",
    "    embedding_le = le.fit_transform()\n",
    "    #embedding_le = np.real(embedding_le)\n",
    "    \n",
    "    # Split the data into training and testing sets\n",
    "    X_train, X_test, y_train, y_test = train_test_split(embedding_le, y, test_size=0.3, random_state=42)\n",
    "    \n",
    "    # Fit the KNN model on the training data\n",
    "    knn = KNeighborsClassifier(n_neighbors=23)\n",
    "    knn.fit(X_train, y_train)\n",
    "    \n",
    "    # Use the trained model to predict the labels for the testing data\n",
    "    y_pred = knn.predict(X_test)\n",
    "    \n",
    "    # Calculate the accuracy of the model\n",
    "    accuracy = accuracy_score(y_test, y_pred)\n",
    "    \n",
    "    # Append the accuracy to the list\n",
    "    accuracies.append(accuracy)\n",
    "    \n",
    "    end_time = time.time()\n",
    "    times.append(end_time - start_time)\n",
    "\n",
    "# Print the accuracies and times for each dimension\n",
    "for dim, accuracy, time_taken in zip(dimensions, accuracies, times):\n",
    "    print(f\"Dimension: {dim}, Accuracy: {accuracy}, Time taken: {time_taken} seconds\")\n",
    "\n",
    "print(accuracies)\n",
    "print(times)"
   ]
  },
  {
   "cell_type": "code",
   "execution_count": 28,
   "metadata": {},
   "outputs": [
    {
     "name": "stdout",
     "output_type": "stream",
     "text": [
      "Total time taken: 1.4118282794952393 seconds\n"
     ]
    }
   ],
   "source": [
    "time_taken_loop = np.sum(times)\n",
    "print(f\"Total time taken: {np.sum(times)} seconds\")"
   ]
  },
  {
   "cell_type": "code",
   "execution_count": 29,
   "metadata": {},
   "outputs": [
    {
     "name": "stdout",
     "output_type": "stream",
     "text": [
      "[0.7897196261682243, 0.7897196261682243, 0.8317757009345794, 0.822429906542056, 0.8317757009345794, 0.8317757009345794, 0.8364485981308412, 0.8317757009345794, 0.8271028037383178]\n"
     ]
    }
   ],
   "source": [
    "print(accuracies)"
   ]
  },
  {
   "cell_type": "code",
   "execution_count": 30,
   "metadata": {},
   "outputs": [],
   "source": [
    "# Create lists of dimensions and accuracies\n",
    "dimensions = list(range(2, 20, 2))\n"
   ]
  },
  {
   "cell_type": "code",
   "execution_count": 31,
   "metadata": {},
   "outputs": [],
   "source": [
    "dimensions.append(estDim)\n",
    "accuracies.append(accuracy)"
   ]
  },
  {
   "cell_type": "code",
   "execution_count": 32,
   "metadata": {},
   "outputs": [
    {
     "name": "stderr",
     "output_type": "stream",
     "text": [
      "/var/folders/yj/rxsr79ls6fx9ykhgjv_fbk2r0000gp/T/ipykernel_35855/3613014485.py:7: UserWarning: linestyle is redundantly defined by the 'linestyle' keyword argument and the fmt string \"bo-\" (-> linestyle='-'). The keyword argument will take precedence.\n",
      "  plt.plot(dimensions, accuracies, 'bo-', linestyle='dotted', label='LE Dimensions')\n",
      "/var/folders/yj/rxsr79ls6fx9ykhgjv_fbk2r0000gp/T/ipykernel_35855/3613014485.py:37: MatplotlibDeprecationWarning: The legendHandles attribute was deprecated in Matplotlib 3.7 and will be removed two minor releases later. Use legend_handles instead.\n",
      "  for handle in legend.legendHandles:\n"
     ]
    },
    {
     "data": {
      "image/png": "[encoded data removed]",
      "text/plain": [
       "<Figure size 1200x600 with 1 Axes>"
      ]
     },
     "metadata": {},
     "output_type": "display_data"
    }
   ],
   "source": [
    "import matplotlib.pyplot as plt\n",
    "\n",
    "# Set the size of the plot\n",
    "plt.figure(figsize=(12, 6))  # Width: 18 inches, Height: 6 inches\n",
    "\n",
    "# Create a blue dotted line plot of dimensions vs accuracies with markers\n",
    "plt.plot(dimensions, accuracies, 'bo-', linestyle='dotted', label='LE Dimensions')\n",
    "\n",
    "# Highlight the accuracy of estDim with a straight red line\n",
    "plt.axhline(y=accuracy, color='red', linestyle='-', label=f'estDim={estDim}')\n",
    "plt.text(5, accuracy, 'estDim', verticalalignment='bottom', color='red')\n",
    "\n",
    "# Plot the accuracy of the original data with a straight orange line\n",
    "plt.axhline(y=accuracy_org, color='orange', linestyle='-', label='Original Dataset')\n",
    "plt.text(5, accuracy_org, 'Original Dataset', verticalalignment='top', color='orange')\n",
    "\n",
    "# Highlight the intersection point at estimated dimension\n",
    "# Plot these after the blue line to ensure they appear on top\n",
    "plt.scatter(estDim, accuracy, color='red', zorder=5)\n",
    "plt.scatter(estDim, accuracy_org, color='orange', zorder=5)\n",
    "\n",
    "# Add grid\n",
    "plt.grid(True)\n",
    "\n",
    "# Set x-axis to show all dimensions\n",
    "plt.xticks(dimensions + [estDim])\n",
    "\n",
    "# Label the axes and create a legend\n",
    "plt.xlabel('Dimensions', fontsize=14)\n",
    "plt.ylabel('Accuracy', fontsize=14)\n",
    "#plt.title('Indian Pines - PCA and kNN Accuracies with Dimension Estimator', fontsize=16)\n",
    "\n",
    "# Create a legend with larger font size\n",
    "legend = plt.legend(fontsize='x-large')\n",
    "\n",
    "# Increase the size of the legend markers\n",
    "for handle in legend.legendHandles:\n",
    "    handle._sizes = [85]\n",
    "\n",
    "plt.show()"
   ]
  },
  {
   "cell_type": "code",
   "execution_count": null,
   "metadata": {},
   "outputs": [],
   "source": []
  }
 ],
 "metadata": {
  "kernelspec": {
   "display_name": "scaman-env",
   "language": "python",
   "name": "python3"
  },
  "language_info": {
   "codemirror_mode": {
    "name": "ipython",
    "version": 3
   },
   "file_extension": ".py",
   "mimetype": "text/x-python",
   "name": "python",
   "nbconvert_exporter": "python",
   "pygments_lexer": "ipython3",
   "version": "3.9.16"
  }
 },
 "nbformat": 4,
 "nbformat_minor": 2
}
